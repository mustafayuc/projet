{
 "cells": [
  {
   "attachments": {},
   "cell_type": "markdown",
   "metadata": {},
   "source": [
    "# Welcome to my tutorial"
   ]
  },
  {
   "attachments": {},
   "cell_type": "markdown",
   "metadata": {},
   "source": [
    "### Photonics\n"
   ]
  },
  {
   "attachments": {},
   "cell_type": "markdown",
   "metadata": {},
   "source": [
    "Photonics is an emerging field that can be used in a variety of application going from quantum applications, sensing, computation. Photonics integrated circuits have the advantage of being flexible for designs, low power and fast."
   ]
  },
  {
   "attachments": {},
   "cell_type": "markdown",
   "metadata": {},
   "source": [
    "Let's write some functions."
   ]
  },
  {
   "cell_type": "code",
   "execution_count": 3,
   "metadata": {},
   "outputs": [
    {
     "name": "stdout",
     "output_type": "stream",
     "text": [
      "30\n"
     ]
    }
   ],
   "source": [
    "def sum(a,b):\n",
    "    return a + b\n",
    "\n",
    "print(sum(10,20))"
   ]
  },
  {
   "attachments": {},
   "cell_type": "markdown",
   "metadata": {},
   "source": [
    "The result of the sum(10,20) is the sum of 10 and 20 which gives rise to 30."
   ]
  },
  {
   "cell_type": "code",
   "execution_count": 11,
   "metadata": {},
   "outputs": [],
   "source": [
    "import gdsfactory as gf\n",
    "from gdsfactory.generic_tech import get_generic_pdk\n",
    "\n",
    "gf.config.rich_output()\n",
    "\n",
    "PDK = get_generic_pdk()\n",
    "PDK.activate()\n",
    "\n",
    "# Create a blank component (essentially an empty GDS cell with some special features)\n",
    "c = gf.Component(\"myComponent\")"
   ]
  },
  {
   "attachments": {},
   "cell_type": "markdown",
   "metadata": {},
   "source": [
    "let's add components\n"
   ]
  },
  {
   "cell_type": "code",
   "execution_count": 12,
   "metadata": {},
   "outputs": [
    {
     "name": "stdout",
     "output_type": "stream",
     "text": [
      "You can install `pip install gdsfactory[full]` for better visualization\n"
     ]
    },
    {
     "name": "stderr",
     "output_type": "stream",
     "text": [
      "Matplotlib is building the font cache; this may take a moment.\n"
     ]
    },
    {
     "data": {
      "image/png": "[encoded data removed]",
      "text/plain": [
       "<Figure size 640x480 with 1 Axes>"
      ]
     },
     "metadata": {},
     "output_type": "display_data"
    },
    {
     "name": "stdout",
     "output_type": "stream",
     "text": [
      "myComponent: uid fefe9bb8, ports [], references ['straight_1', 'straight_2'], 0 polygons\n"
     ]
    }
   ],
   "source": [
    "@gf.cell\n",
    "def straight(length=10, width=1, layer=(1, 0)):\n",
    "    WG = gf.Component()\n",
    "    WG.add_polygon([(0, 0), (length, 0), (length, width), (0, width)], layer=layer)\n",
    "    WG.add_port(\n",
    "        name=\"o1\", center=[0, width / 2], width=width, orientation=180, layer=layer\n",
    "    )\n",
    "    WG.add_port(\n",
    "        name=\"o2\", center=[length, width / 2], width=width, orientation=0, layer=layer\n",
    "    )\n",
    "    return WG\n",
    "\n",
    "wg1 = straight()\n",
    "wg2 = straight(layer=(2, 0))\n",
    "mwg1_ref = c.add_ref(wg1)\n",
    "mwg2_ref = c.add_ref(wg2)\n",
    "mwg2_ref.move(destination=[10, 10])\n",
    "c"
   ]
  }
 ],
 "metadata": {
  "kernelspec": {
   "display_name": "Python 3",
   "language": "python",
   "name": "python3"
  },
  "language_info": {
   "codemirror_mode": {
    "name": "ipython",
    "version": 3
   },
   "file_extension": ".py",
   "mimetype": "text/x-python",
   "name": "python",
   "nbconvert_exporter": "python",
   "pygments_lexer": "ipython3",
   "version": "3.11.2"
  },
  "orig_nbformat": 4
 },
 "nbformat": 4,
 "nbformat_minor": 2
}
